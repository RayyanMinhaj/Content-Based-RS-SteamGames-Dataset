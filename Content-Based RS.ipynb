{
 "cells": [
  {
   "cell_type": "code",
   "execution_count": 2,
   "metadata": {},
   "outputs": [
    {
     "data": {
      "text/html": [
       "<div>\n",
       "<style scoped>\n",
       "    .dataframe tbody tr th:only-of-type {\n",
       "        vertical-align: middle;\n",
       "    }\n",
       "\n",
       "    .dataframe tbody tr th {\n",
       "        vertical-align: top;\n",
       "    }\n",
       "\n",
       "    .dataframe thead th {\n",
       "        text-align: right;\n",
       "    }\n",
       "</style>\n",
       "<table border=\"1\" class=\"dataframe\">\n",
       "  <thead>\n",
       "    <tr style=\"text-align: right;\">\n",
       "      <th></th>\n",
       "      <th>id</th>\n",
       "      <th>title</th>\n",
       "      <th>genres</th>\n",
       "    </tr>\n",
       "  </thead>\n",
       "  <tbody>\n",
       "    <tr>\n",
       "      <th>0</th>\n",
       "      <td>761140.0</td>\n",
       "      <td>Lost Summoner Kitty</td>\n",
       "      <td>['Action', 'Casual', 'Indie', 'Simulation', 'S...</td>\n",
       "    </tr>\n",
       "    <tr>\n",
       "      <th>1</th>\n",
       "      <td>643980.0</td>\n",
       "      <td>Ironbound</td>\n",
       "      <td>['Free to Play', 'Indie', 'RPG', 'Strategy']</td>\n",
       "    </tr>\n",
       "    <tr>\n",
       "      <th>2</th>\n",
       "      <td>670290.0</td>\n",
       "      <td>Real Pool 3D - Poolians</td>\n",
       "      <td>['Casual', 'Free to Play', 'Indie', 'Simulatio...</td>\n",
       "    </tr>\n",
       "    <tr>\n",
       "      <th>3</th>\n",
       "      <td>767400.0</td>\n",
       "      <td>f39b8eba2222</td>\n",
       "      <td>['Action', 'Adventure', 'Casual']</td>\n",
       "    </tr>\n",
       "    <tr>\n",
       "      <th>4</th>\n",
       "      <td>773570.0</td>\n",
       "      <td>NaN</td>\n",
       "      <td>NaN</td>\n",
       "    </tr>\n",
       "  </tbody>\n",
       "</table>\n",
       "</div>"
      ],
      "text/plain": [
       "         id                    title  \\\n",
       "0  761140.0      Lost Summoner Kitty   \n",
       "1  643980.0                Ironbound   \n",
       "2  670290.0  Real Pool 3D - Poolians   \n",
       "3  767400.0             f39b8eba2222   \n",
       "4  773570.0                      NaN   \n",
       "\n",
       "                                              genres  \n",
       "0  ['Action', 'Casual', 'Indie', 'Simulation', 'S...  \n",
       "1       ['Free to Play', 'Indie', 'RPG', 'Strategy']  \n",
       "2  ['Casual', 'Free to Play', 'Indie', 'Simulatio...  \n",
       "3                  ['Action', 'Adventure', 'Casual']  \n",
       "4                                                NaN  "
      ]
     },
     "execution_count": 2,
     "metadata": {},
     "output_type": "execute_result"
    }
   ],
   "source": [
    "import pandas as pd\n",
    "\n",
    "df = pd.read_csv(\"game_data.csv\")\n",
    "df.head()"
   ]
  },
  {
   "cell_type": "code",
   "execution_count": 4,
   "metadata": {},
   "outputs": [],
   "source": [
    "df['id'] = pd.to_numeric(df['id'], errors='coerce').astype('Int64')"
   ]
  },
  {
   "cell_type": "code",
   "execution_count": 5,
   "metadata": {},
   "outputs": [
    {
     "data": {
      "text/html": [
       "<div>\n",
       "<style scoped>\n",
       "    .dataframe tbody tr th:only-of-type {\n",
       "        vertical-align: middle;\n",
       "    }\n",
       "\n",
       "    .dataframe tbody tr th {\n",
       "        vertical-align: top;\n",
       "    }\n",
       "\n",
       "    .dataframe thead th {\n",
       "        text-align: right;\n",
       "    }\n",
       "</style>\n",
       "<table border=\"1\" class=\"dataframe\">\n",
       "  <thead>\n",
       "    <tr style=\"text-align: right;\">\n",
       "      <th></th>\n",
       "      <th>id</th>\n",
       "      <th>title</th>\n",
       "      <th>genres</th>\n",
       "    </tr>\n",
       "  </thead>\n",
       "  <tbody>\n",
       "    <tr>\n",
       "      <th>0</th>\n",
       "      <td>761140</td>\n",
       "      <td>Lost Summoner Kitty</td>\n",
       "      <td>['Action', 'Casual', 'Indie', 'Simulation', 'S...</td>\n",
       "    </tr>\n",
       "    <tr>\n",
       "      <th>1</th>\n",
       "      <td>643980</td>\n",
       "      <td>Ironbound</td>\n",
       "      <td>['Free to Play', 'Indie', 'RPG', 'Strategy']</td>\n",
       "    </tr>\n",
       "    <tr>\n",
       "      <th>2</th>\n",
       "      <td>670290</td>\n",
       "      <td>Real Pool 3D - Poolians</td>\n",
       "      <td>['Casual', 'Free to Play', 'Indie', 'Simulatio...</td>\n",
       "    </tr>\n",
       "    <tr>\n",
       "      <th>3</th>\n",
       "      <td>767400</td>\n",
       "      <td>f39b8eba2222</td>\n",
       "      <td>['Action', 'Adventure', 'Casual']</td>\n",
       "    </tr>\n",
       "    <tr>\n",
       "      <th>4</th>\n",
       "      <td>773570</td>\n",
       "      <td>NaN</td>\n",
       "      <td>NaN</td>\n",
       "    </tr>\n",
       "  </tbody>\n",
       "</table>\n",
       "</div>"
      ],
      "text/plain": [
       "       id                    title  \\\n",
       "0  761140      Lost Summoner Kitty   \n",
       "1  643980                Ironbound   \n",
       "2  670290  Real Pool 3D - Poolians   \n",
       "3  767400             f39b8eba2222   \n",
       "4  773570                      NaN   \n",
       "\n",
       "                                              genres  \n",
       "0  ['Action', 'Casual', 'Indie', 'Simulation', 'S...  \n",
       "1       ['Free to Play', 'Indie', 'RPG', 'Strategy']  \n",
       "2  ['Casual', 'Free to Play', 'Indie', 'Simulatio...  \n",
       "3                  ['Action', 'Adventure', 'Casual']  \n",
       "4                                                NaN  "
      ]
     },
     "execution_count": 5,
     "metadata": {},
     "output_type": "execute_result"
    }
   ],
   "source": [
    "df.head()"
   ]
  },
  {
   "cell_type": "code",
   "execution_count": 6,
   "metadata": {},
   "outputs": [],
   "source": [
    "df = df.dropna(subset=['title', 'genres'])"
   ]
  },
  {
   "cell_type": "code",
   "execution_count": 7,
   "metadata": {},
   "outputs": [
    {
     "data": {
      "text/html": [
       "<div>\n",
       "<style scoped>\n",
       "    .dataframe tbody tr th:only-of-type {\n",
       "        vertical-align: middle;\n",
       "    }\n",
       "\n",
       "    .dataframe tbody tr th {\n",
       "        vertical-align: top;\n",
       "    }\n",
       "\n",
       "    .dataframe thead th {\n",
       "        text-align: right;\n",
       "    }\n",
       "</style>\n",
       "<table border=\"1\" class=\"dataframe\">\n",
       "  <thead>\n",
       "    <tr style=\"text-align: right;\">\n",
       "      <th></th>\n",
       "      <th>id</th>\n",
       "      <th>title</th>\n",
       "      <th>genres</th>\n",
       "    </tr>\n",
       "  </thead>\n",
       "  <tbody>\n",
       "    <tr>\n",
       "      <th>0</th>\n",
       "      <td>761140</td>\n",
       "      <td>Lost Summoner Kitty</td>\n",
       "      <td>['Action', 'Casual', 'Indie', 'Simulation', 'S...</td>\n",
       "    </tr>\n",
       "    <tr>\n",
       "      <th>1</th>\n",
       "      <td>643980</td>\n",
       "      <td>Ironbound</td>\n",
       "      <td>['Free to Play', 'Indie', 'RPG', 'Strategy']</td>\n",
       "    </tr>\n",
       "    <tr>\n",
       "      <th>2</th>\n",
       "      <td>670290</td>\n",
       "      <td>Real Pool 3D - Poolians</td>\n",
       "      <td>['Casual', 'Free to Play', 'Indie', 'Simulatio...</td>\n",
       "    </tr>\n",
       "    <tr>\n",
       "      <th>3</th>\n",
       "      <td>767400</td>\n",
       "      <td>f39b8eba2222</td>\n",
       "      <td>['Action', 'Adventure', 'Casual']</td>\n",
       "    </tr>\n",
       "    <tr>\n",
       "      <th>5</th>\n",
       "      <td>772540</td>\n",
       "      <td>Battle Royale Trainer</td>\n",
       "      <td>['Action', 'Adventure', 'Simulation']</td>\n",
       "    </tr>\n",
       "  </tbody>\n",
       "</table>\n",
       "</div>"
      ],
      "text/plain": [
       "       id                    title  \\\n",
       "0  761140      Lost Summoner Kitty   \n",
       "1  643980                Ironbound   \n",
       "2  670290  Real Pool 3D - Poolians   \n",
       "3  767400             f39b8eba2222   \n",
       "5  772540    Battle Royale Trainer   \n",
       "\n",
       "                                              genres  \n",
       "0  ['Action', 'Casual', 'Indie', 'Simulation', 'S...  \n",
       "1       ['Free to Play', 'Indie', 'RPG', 'Strategy']  \n",
       "2  ['Casual', 'Free to Play', 'Indie', 'Simulatio...  \n",
       "3                  ['Action', 'Adventure', 'Casual']  \n",
       "5              ['Action', 'Adventure', 'Simulation']  "
      ]
     },
     "execution_count": 7,
     "metadata": {},
     "output_type": "execute_result"
    }
   ],
   "source": [
    "df.head()"
   ]
  },
  {
   "cell_type": "code",
   "execution_count": 8,
   "metadata": {},
   "outputs": [
    {
     "data": {
      "text/html": [
       "<div>\n",
       "<style scoped>\n",
       "    .dataframe tbody tr th:only-of-type {\n",
       "        vertical-align: middle;\n",
       "    }\n",
       "\n",
       "    .dataframe tbody tr th {\n",
       "        vertical-align: top;\n",
       "    }\n",
       "\n",
       "    .dataframe thead th {\n",
       "        text-align: right;\n",
       "    }\n",
       "</style>\n",
       "<table border=\"1\" class=\"dataframe\">\n",
       "  <thead>\n",
       "    <tr style=\"text-align: right;\">\n",
       "      <th></th>\n",
       "      <th>id</th>\n",
       "      <th>title</th>\n",
       "      <th>genres</th>\n",
       "    </tr>\n",
       "  </thead>\n",
       "  <tbody>\n",
       "    <tr>\n",
       "      <th>0</th>\n",
       "      <td>761140</td>\n",
       "      <td>Lost Summoner Kitty</td>\n",
       "      <td>['Action', 'Casual', 'Indie', 'Simulation', 'S...</td>\n",
       "    </tr>\n",
       "    <tr>\n",
       "      <th>1</th>\n",
       "      <td>643980</td>\n",
       "      <td>Ironbound</td>\n",
       "      <td>['Free to Play', 'Indie', 'RPG', 'Strategy']</td>\n",
       "    </tr>\n",
       "    <tr>\n",
       "      <th>2</th>\n",
       "      <td>670290</td>\n",
       "      <td>Real Pool 3D - Poolians</td>\n",
       "      <td>['Casual', 'Free to Play', 'Indie', 'Simulatio...</td>\n",
       "    </tr>\n",
       "    <tr>\n",
       "      <th>3</th>\n",
       "      <td>767400</td>\n",
       "      <td>f39b8eba2222</td>\n",
       "      <td>['Action', 'Adventure', 'Casual']</td>\n",
       "    </tr>\n",
       "    <tr>\n",
       "      <th>4</th>\n",
       "      <td>772540</td>\n",
       "      <td>Battle Royale Trainer</td>\n",
       "      <td>['Action', 'Adventure', 'Simulation']</td>\n",
       "    </tr>\n",
       "  </tbody>\n",
       "</table>\n",
       "</div>"
      ],
      "text/plain": [
       "       id                    title  \\\n",
       "0  761140      Lost Summoner Kitty   \n",
       "1  643980                Ironbound   \n",
       "2  670290  Real Pool 3D - Poolians   \n",
       "3  767400             f39b8eba2222   \n",
       "4  772540    Battle Royale Trainer   \n",
       "\n",
       "                                              genres  \n",
       "0  ['Action', 'Casual', 'Indie', 'Simulation', 'S...  \n",
       "1       ['Free to Play', 'Indie', 'RPG', 'Strategy']  \n",
       "2  ['Casual', 'Free to Play', 'Indie', 'Simulatio...  \n",
       "3                  ['Action', 'Adventure', 'Casual']  \n",
       "4              ['Action', 'Adventure', 'Simulation']  "
      ]
     },
     "execution_count": 8,
     "metadata": {},
     "output_type": "execute_result"
    }
   ],
   "source": [
    "df = df.reset_index(drop=True)\n",
    "\n",
    "df.head()"
   ]
  },
  {
   "cell_type": "code",
   "execution_count": 9,
   "metadata": {},
   "outputs": [
    {
     "data": {
      "text/plain": [
       "28851"
      ]
     },
     "execution_count": 9,
     "metadata": {},
     "output_type": "execute_result"
    }
   ],
   "source": []
  },
  {
   "cell_type": "markdown",
   "metadata": {},
   "source": [
    "## Reading user preferences\n"
   ]
  },
  {
   "cell_type": "code",
   "execution_count": 10,
   "metadata": {},
   "outputs": [],
   "source": [
    "def is_in_file(fav__id, fav__rating):\n",
    "    if(fav__id<1):\n",
    "        print(\"GameID needs to start with 1!\")\n",
    "        return False\n",
    "\n",
    "    if(fav__id not in df['id'].values):\n",
    "        print(\"This Game ID does not exist!\")\n",
    "        return False\n",
    "\n",
    "    if(fav__id in fav_id):\n",
    "        print(\"You have already rated this!\")\n",
    "        return False\n",
    "\n",
    "    if(fav__rating>10):\n",
    "        print(\"Ratings must be below 10!\")\n",
    "        return False\n",
    "    else:\n",
    "        fav_id.append(fav__id)\n",
    "        fav_rating.append(fav__rating)\n",
    "        return True\n"
   ]
  },
  {
   "cell_type": "code",
   "execution_count": 11,
   "metadata": {},
   "outputs": [
    {
     "name": "stdout",
     "output_type": "stream",
     "text": [
      "\n",
      "\n",
      "\n",
      "\n",
      "\n",
      "\n",
      "~~~~~~~~RATED GAMES~~~~~~~~~\n",
      "Game ID: 761140   Game Name: Lost Summoner Kitty                                Rating: 8/10\n",
      "Game ID: 767400   Game Name: f39b8eba2222                                       Rating: 5/10\n",
      "Game ID: 670290   Game Name: Real Pool 3D - Poolians                            Rating: 4/10\n"
     ]
    }
   ],
   "source": [
    "fav_id=[]\n",
    "fav_rating=[]\n",
    "\n",
    "while(1):\n",
    "    fav__id=int(input('Please enter game #1 id: '))\n",
    "    fav__rating=int(input('Please enter game #1 rating out of 10: '))\n",
    "\n",
    "    if(is_in_file(fav__id,fav__rating))==True:\n",
    "      break\n",
    "\n",
    "print(\"\\n\")\n",
    "\n",
    "while(1):\n",
    "    fav__id=int(input('Please enter game #2 id: '))\n",
    "    fav__rating=int(input('Please enter game #2 rating out of 10: '))\n",
    "\n",
    "    if(is_in_file(fav__id,fav__rating))==True:\n",
    "      break\n",
    "\n",
    "print(\"\\n\")\n",
    "\n",
    "while(1):\n",
    "    fav__id=int(input('Please enter game #3 id: '))\n",
    "    fav__rating=int(input('Please enter game #3 rating out of 10: '))\n",
    "\n",
    "    if(is_in_file(fav__id,fav__rating))==True:\n",
    "      break\n",
    "\n",
    "\n",
    "print(\"\\n\\n~~~~~~~~RATED GAMES~~~~~~~~~\")\n",
    "\n",
    "for i in range(0, 3):\n",
    "    name = df[df['id'] == fav_id[i]]['title'].iloc[0]\n",
    "    #rating = fav_rating[i]\n",
    "    print(\"Game ID: {:<8} Game Name: {:<50} Rating: {:<1}/10\".format(fav_id[i], name, fav_rating[i]))\n"
   ]
  },
  {
   "cell_type": "code",
   "execution_count": 18,
   "metadata": {},
   "outputs": [
    {
     "name": "stdout",
     "output_type": "stream",
     "text": [
      "['Action', 'Casual', 'Indie', 'Simulation', 'Strategy', 'Adventure', 'Free to Play', 'Sports']\n"
     ]
    }
   ],
   "source": [
    "game_genres=[]\n",
    "\n",
    "for i in range(0,3):\n",
    "  #genres=df[df['if'] == fav_id[i]]['tags'].iloc[0].split('|')\n",
    "  genres_str = df[df['id'] == fav_id[i]]['genres'].iloc[0].strip('[]')  # Remove square brackets\n",
    "  genres_str = genres_str.replace(\"'\", \"\")  # Remove single quotes\n",
    "  genres = genres_str.split(\", \")  # Split the string into a list\n",
    "\n",
    "\n",
    "\n",
    "  for genre in genres:\n",
    "    if genre not in game_genres:\n",
    "      game_genres.append(genre)\n",
    "\n",
    "\n",
    "#print(len(game_genres))\n",
    "print(game_genres)"
   ]
  },
  {
   "cell_type": "code",
   "execution_count": null,
   "metadata": {},
   "outputs": [],
   "source": []
  }
 ],
 "metadata": {
  "kernelspec": {
   "display_name": "Python 3",
   "language": "python",
   "name": "python3"
  },
  "language_info": {
   "codemirror_mode": {
    "name": "ipython",
    "version": 3
   },
   "file_extension": ".py",
   "mimetype": "text/x-python",
   "name": "python",
   "nbconvert_exporter": "python",
   "pygments_lexer": "ipython3",
   "version": "3.9.7"
  }
 },
 "nbformat": 4,
 "nbformat_minor": 2
}
